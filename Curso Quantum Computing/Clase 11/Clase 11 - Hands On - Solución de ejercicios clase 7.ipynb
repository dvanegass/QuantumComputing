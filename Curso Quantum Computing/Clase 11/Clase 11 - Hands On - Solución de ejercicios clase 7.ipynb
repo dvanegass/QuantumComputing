{
  "nbformat": 4,
  "nbformat_minor": 0,
  "metadata": {
    "colab": {
      "provenance": []
    },
    "kernelspec": {
      "name": "python3",
      "display_name": "Python 3"
    },
    "language_info": {
      "name": "python"
    }
  },
  "cells": [
    {
      "cell_type": "markdown",
      "source": [
        "# <center> Semillero Quantum Computing</center>\n",
        "\n",
        "## <center> Clase 11: Hands-On - Solución de ejercicios clase 7 </center>\n",
        "\n",
        "\n",
        "<center>Judol Alejandro Rodríguez Franco\n",
        "<center>Universidad Nacional De Colombia\n",
        "<center>Observatorio Astronómico Nacional\n",
        "<center>Facultad De Ciencias\n",
        "\n",
        "---\n",
        "### <center>Abstract</center>\n",
        "\n",
        "<center>Práctica de Qiskit realizada en lenguaje python con ayuda de notebooks de Jupyter; se solucionan ejercicios que ayudan matemática y visualmente a entender las propiedades del algebra lineal en Qubits y en otros ejemplos</center>\n",
        "\n",
        "---"
      ],
      "metadata": {
        "id": "ub-_jjbtbRpP"
      }
    },
    {
      "cell_type": "code",
      "source": [
        "#Instalamos el paquete de Qiskit que contiene ejemplos y códigos contenidos en el libro\n",
        "%pip install git+https://github.com/qiskit-community/qiskit-textbook.git#subdirectory=qiskit-textbook-src"
      ],
      "metadata": {
        "id": "_ZbPnGkqixW-"
      },
      "execution_count": null,
      "outputs": []
    },
    {
      "cell_type": "code",
      "source": [
        "#Usar matplotlib como graficador predeterminado\n",
        "import matplotlib as mpl\n",
        "circuit_drawer = mpl"
      ],
      "metadata": {
        "id": "hIy2PPyYi2l8"
      },
      "execution_count": null,
      "outputs": []
    },
    {
      "cell_type": "code",
      "source": [
        "#Instalamos el paquete que nos permite darle formato a las ecuaciones\n",
        "%pip install pylatexenc"
      ],
      "metadata": {
        "id": "MXz4iNp-i3t3"
      },
      "execution_count": null,
      "outputs": []
    },
    {
      "cell_type": "code",
      "source": [
        "#Sincronizar con la versión de Qiskit usada en los ejemplos del libro\n",
        "import qiskit.tools.jupyter\n",
        "%qiskit_version_table"
      ],
      "metadata": {
        "id": "cqbo3sACi7vp"
      },
      "execution_count": null,
      "outputs": []
    },
    {
      "cell_type": "markdown",
      "source": [
        "### <center> **Ejercicios próxima clase**"
      ],
      "metadata": {
        "id": "u2KiI-aK0Ood"
      }
    },
    {
      "cell_type": "markdown",
      "source": [
        "Realizar los siguientes ejercicios del texto guía [*Quantum Computing Explained*](https://www.wiley.com/en-us/Quantum+Computing+Explained-p-9780470096994) páginas 36 y 37:\n",
        "\n"
      ],
      "metadata": {
        "id": "09Vv8E6uvn1C"
      }
    },
    {
      "cell_type": "markdown",
      "source": [
        "#### 1. **Ejercicio 2.4**"
      ],
      "metadata": {
        "id": "l5gcOQOjxvkE"
      }
    },
    {
      "cell_type": "markdown",
      "source": [
        "Un sistema cuántico se encuentra en el siguiente estado:\n",
        "\n",
        "$$|\\psi\\rangle=\\frac{3i|0\\rangle+4|1\\rangle}{5}$$"
      ],
      "metadata": {
        "id": "iT-QUM_RxqZr"
      }
    },
    {
      "cell_type": "code",
      "source": [
        "from qiskit.quantum_info import Statevector\n",
        "\n",
        "# Definición de los coeficientes del estado Ψ para 0⟩ y |1⟩ respectivamente\n",
        "Ψcoefficients = [3j/5, 4/5]\n",
        "\n",
        "# Crear el objeto o bit cuántico\n",
        "Ψ = Statevector(Ψcoefficients)\n",
        "\n",
        "# Mostrar el objeto anteriormente definido\n",
        "print(Ψ)"
      ],
      "metadata": {
        "id": "36KsTfn0vtPC"
      },
      "execution_count": null,
      "outputs": []
    },
    {
      "cell_type": "code",
      "source": [
        "from qiskit.visualization import plot_bloch_vector\n",
        "import numpy as np\n",
        "\n",
        "# Función que transforma los coeficientes de bloch a coord esfericas  \n",
        "def get_spherical_coordinates(statevector):\n",
        "    # Convesión polar:\n",
        "    r0 = np.abs(statevector[0])\n",
        "    ϕ0 = np.angle(statevector[0])\n",
        "\n",
        "    r1 = np.abs(statevector[1])\n",
        "    ϕ1 = np.angle(statevector[1])\n",
        "\n",
        "    # Calculo coordenadas:\n",
        "    r = np.sqrt(r0 ** 2 + r1 ** 2)\n",
        "    θ = 2 * np.arccos(r0 / r)\n",
        "    ϕ = ϕ1 - ϕ0\n",
        "    return [r, θ, ϕ]\n",
        "\n",
        "# Visualizar el estado cuántico\n",
        "plot_bloch_vector(get_spherical_coordinates(Ψ), title=r'Representación del estado $|\\psi\\rangle=\\frac{3i|0\\rangle+4|1\\rangle}{5}$'  ,coord_type = 'spherical')"
      ],
      "metadata": {
        "id": "h2X-pIaIwdOD"
      },
      "execution_count": null,
      "outputs": []
    },
    {
      "cell_type": "markdown",
      "source": [
        "#### **a) ¿El estado está normalizado?**\n",
        "\n"
      ],
      "metadata": {
        "id": "dRniybgnulCw"
      }
    },
    {
      "cell_type": "markdown",
      "source": [
        "Para determinar si el estado está normalizado, necesitamos calcular su norma $\\langle\\psi|\\psi\\rangle$ y determinar si igual o diferente a uno. La norma de un estado cuántico se calcula como el producto interno del estado consigo mismo. En este caso:\n",
        "\n",
        "$$|\\psi\\rangle=\\frac{3i}{5}|0\\rangle+\\frac{4}{5}|1\\rangle$$\n",
        "\n",
        "Calculando la norma considerando que $(\\alpha|\\psi\\rangle)^\\dagger=\\alpha^*\\langle\\psi|$:\n",
        "\n",
        "$$\n",
        "\\begin{align*}\n",
        "  \\langle\\psi|\\psi\\rangle &=\\left(-\\frac{3i}{5}\\langle 0|+\\frac{4}{5}\\langle 1|\\right)\\left(\\frac{3i}{5}|0\\rangle+\\frac{4}{5}|1\\rangle\\right)\\\\\n",
        "  &= -\\left(\\frac{3i}{5}\\right)^2 \\langle 0|0\\rangle - \\left(\\frac{3i}{5}\\cdot\\frac{4}{5}\\right) \\langle 0|1\\rangle + \\left(\\frac{3i}{5}\\cdot\\frac{4}{5}\\right) \\langle 1|0\\rangle  + \\left(\\frac{4}{5}\\right)^2 \\langle 1|1\\rangle  \\\\\n",
        "  &= -\\left(\\frac{3i}{5}\\right)^2 + \\left(\\frac{4}{5}\\right)^2 \\\\\n",
        "  &= -i^2\\frac{9}{25} + \\frac{16}{25}\\\\\n",
        "  &= \\frac{9}{25} + \\frac{16}{25}\\\\\n",
        "  \\langle\\psi|\\psi\\rangle &= 1\\\\\n",
        "\\end{align*}\n",
        "$$\n",
        "\n",
        "Por lo tanto, el estado SI está normalizado."
      ],
      "metadata": {
        "id": "z0N-321QdDd5"
      }
    },
    {
      "cell_type": "code",
      "source": [
        "np.abs(Ψ.inner(Ψ))"
      ],
      "metadata": {
        "id": "kiydu8g9_yNU"
      },
      "execution_count": null,
      "outputs": []
    },
    {
      "cell_type": "code",
      "source": [
        "# Calcular la norma del estado\n",
        "Ψnorm = np.abs(Ψ.inner(Ψ))\n",
        "\n",
        "# Mostrar el resultado the norm\n",
        "print('La norma del estado |Ψ> es: ', Ψnorm)"
      ],
      "metadata": {
        "id": "elytBIsnv0tt"
      },
      "execution_count": null,
      "outputs": []
    },
    {
      "cell_type": "markdown",
      "source": [
        "#### **b) Exprese el estado en la base $|+\\rangle$, $|-\\rangle$**"
      ],
      "metadata": {
        "id": "EL0V18_-u-Ui"
      }
    },
    {
      "cell_type": "markdown",
      "source": [
        "Para expresar el estado en la base $|+\\rangle$, $|-\\rangle$, necesitamos encontrar los coeficientes correspondientes. Los estados $|+\\rangle$ y $|-\\rangle$ están relacionados con los estados $|0\\rangle$ y $|1\\rangle$ a través de las siguientes transformaciones:\n",
        "$$|+\\rangle = \\frac{|0\\rangle + |1\\rangle}{\\sqrt{2}}$$\n",
        "$$|-\\rangle = \\frac{|0\\rangle - |1\\rangle}{\\sqrt{2}}$$\n",
        "\n",
        "y sus inversas:\n",
        "\n",
        "$$|0\\rangle = \\frac{|+\\rangle + |-\\rangle}{\\sqrt{2}}$$\n",
        "$$|1\\rangle = \\frac{|+\\rangle - |-\\rangle}{\\sqrt{2}}$$\n",
        "\n",
        "\n",
        "Podemos expresar $|\\psi\\rangle$ en términos de $|0\\rangle$ y $|1\\rangle$, y luego convertirlo a la base $|+\\rangle$, $|-\\rangle$. Sustituyendo los valores de $|0\\rangle$ y $|1\\rangle$:\n",
        "\n",
        "$$\\begin{align}\n",
        "|\\psi\\rangle &= \\frac{3i}{5}|0\\rangle + \\frac{4}{5}|1\\rangle\\\\\n",
        "&= \\frac{3i}{5}\\left(\\frac{|+\\rangle + |-\\rangle}{\\sqrt{2}}\\right) + \\frac{4}{5}\\left(\\frac{|+\\rangle - |-\\rangle}{\\sqrt{2}}\\right)\\\\\n",
        "&=\\frac{1}{\\sqrt{2}}\\left(\\frac{3i}{5}|+\\rangle + \\frac{3i}{5}|-\\rangle + \\frac{4}{5}|+\\rangle - \\frac{4}{5}|-\\rangle\\right)\\\\\n",
        "&=\\frac{1}{\\sqrt{2}}\\left(\\frac{3i}{5} + \\frac{4}{5}\\right)|+\\rangle + \\frac{1}{\\sqrt{2}}\\left(\\frac{3i}{5} - \\frac{4}{5}\\right)|-\\rangle\n",
        "\\end{align}$$\n",
        "\n",
        "Por lo tanto, el estado $|\\psi\\rangle$ en la base $|+\\rangle$, $|-\\rangle$ es:\n",
        "\n",
        "\n",
        "$$|\\psi\\rangle = \\frac{1}{5\\sqrt{2}}\\left( 4+3i\\right) |+\\rangle + \\frac{1}{5\\sqrt{2}}\\left(-4+3i\\right) |-\\rangle$$"
      ],
      "metadata": {
        "id": "Y0FoJLnmephS"
      }
    },
    {
      "cell_type": "markdown",
      "source": [
        "otra manera es suponiendo que \n",
        "\n",
        "$$|\\psi\\rangle = \\alpha |+\\rangle + \\beta |-\\rangle$$\n",
        "\n",
        "y usando\n",
        "\n",
        "$$\\langle+| = \\frac{\\langle0| + \\langle1|}{\\sqrt{2}}$$\n",
        "$$\\langle-| = \\frac{\\langle0| - \\langle1|}{\\sqrt{2}}$$\n",
        "\n",
        "se calculan los coeficientes como:\n",
        "\n",
        "\n",
        "* $\\alpha=\\langle+|\\psi\\rangle$\n",
        "\n",
        "  $\\begin{align}\n",
        "    \\alpha &= \\left(\\frac{\\langle0| + \\langle1|}{\\sqrt{2}}\\right) \\left( \\frac{3i|0\\rangle+4|1\\rangle}{5} \\right)\\\\\n",
        "    &= \\left( \\frac{1}{\\sqrt{2}}\\cdot\\frac{3i}{5} \\right)\\langle0|0\\rangle + \\left( \\frac{1}{\\sqrt{2}}\\cdot\\frac{4}{5} \\right)\\langle0|1\\rangle + \\left( \\frac{1}{\\sqrt{2}}\\cdot\\frac{3i}{5} \\right)\\langle1|0\\rangle + \\left( \\frac{1}{\\sqrt{2}}\\cdot\\frac{4}{5} \\right)\\langle 1|1\\rangle\\\\\n",
        "    \\alpha &= \\frac{1}{5\\sqrt{2}}\\left( 4+3i\\right)\n",
        "    \\end{align}\n",
        "   $\n",
        "\n",
        "\n",
        "\n",
        "   * $\\beta=\\langle -|\\psi\\rangle$\n",
        "\n",
        "  $\\begin{align}\n",
        "    \\beta &= \\left(\\frac{\\langle0| - \\langle1|}{\\sqrt{2}}\\right) \\left( \\frac{3i|0\\rangle+4|1\\rangle}{5} \\right)\\\\\n",
        "    &= \\left( \\frac{1}{\\sqrt{2}}\\cdot\\frac{3i}{5} \\right)\\langle0|0\\rangle + \\left( \\frac{1}{\\sqrt{2}}\\cdot\\frac{4}{5} \\right)\\langle0|1\\rangle - \\left( \\frac{1}{\\sqrt{2}}\\cdot\\frac{3i}{5} \\right)\\langle1|0\\rangle - \\left( \\frac{1}{\\sqrt{2}}\\cdot\\frac{4}{5} \\right)\\langle 1|1\\rangle\\\\\n",
        "    \\beta &= \\frac{1}{5\\sqrt{2}}\\left( -4+3i\\right)\n",
        "    \\end{align}\n",
        "   $\n",
        "\n",
        "por lo tanto, el estado cuántico se escribe como:\n",
        "\n",
        "$$|\\psi\\rangle = \\frac{1}{5\\sqrt{2}}\\left( 4+3i\\right) |+\\rangle + \\frac{1}{5\\sqrt{2}}\\left( -4+3i\\right) |-\\rangle$$"
      ],
      "metadata": {
        "id": "YEygv1Z1L_tW"
      }
    },
    {
      "cell_type": "code",
      "source": [
        "Ψcoefficients = [3j/5, 4/5]\n",
        "Ψ = Statevector(Ψcoefficients)\n",
        "\n",
        "pluscoefficients = [1/np.sqrt(2),1/np.sqrt(2)]\n",
        "plus = Statevector(pluscoefficients)\n",
        "\n",
        "minuscoefficients =  [1/np.sqrt(2),-1/np.sqrt(2)]\n",
        "minus = Statevector(minuscoefficients)\n",
        "\n",
        "alpha = plus.inner(Ψ)\n",
        "beta = minus.inner(Ψ)\n",
        "\n",
        "ΨNewcoefficients = [alpha,beta]\n",
        "ΨNew = Statevector(ΨNewcoefficients)\n",
        "\n",
        "# Mostrar el objeto anteriormente definido\n",
        "print('|ψ⟩=',alpha,'|+⟩ + ', beta, '|-⟩')\n",
        "print(ΨNew)"
      ],
      "metadata": {
        "id": "J3pVG6MDUAMa"
      },
      "execution_count": null,
      "outputs": []
    },
    {
      "cell_type": "markdown",
      "source": [
        "tambien se puede aplicar la compuerta de Hadamard sobre el vector de estado, ya que, como se ha visto anteriormente, esta compuerta aplica un cambio de base:"
      ],
      "metadata": {
        "id": "fgheT5gtWU24"
      }
    },
    {
      "cell_type": "code",
      "source": [
        "from qiskit.quantum_info import Statevector\n",
        "from qiskit import QuantumCircuit\n",
        "\n",
        "\n",
        "#DEFINICIÓN DEL CIRCUITO\n",
        "#-------------------------------------------------------\n",
        "# Crear el circuito cuántico que aplica la compuerta\n",
        "circuit = QuantumCircuit(1)\n",
        "\n",
        "# Aplica la compuerta Hadamard al circuito\n",
        "circuit.h(0)\n",
        "#--------------------------------------------------------\n",
        "\n",
        "#EVOLUCIÓN DEL QUBIT\n",
        "#--------------------------------------------------------\n",
        "# Evolve the initial state vector using the circuit\n",
        "ΨBaseChange = Ψ.evolve(circuit)\n",
        "\n",
        "# Print the evolved state vector\n",
        "print('Estado inicial: ', Ψ , '\\n' , 'Estado final: ', ΨBaseChange)\n"
      ],
      "metadata": {
        "id": "BaF3ge3pjkxd"
      },
      "execution_count": null,
      "outputs": []
    },
    {
      "cell_type": "markdown",
      "source": [
        "#### 2. **Ejercicio 2.5**"
      ],
      "metadata": {
        "id": "NdDWIK5AyKvo"
      }
    },
    {
      "cell_type": "markdown",
      "source": [
        "Utilice el proceso de Gram-Schmidt para encontrar una base ortonormal para un subespacio del espacio cuadridimensional $\\mathbb{R}^4$ generado por:\n",
        "\n",
        "\\begin{align}\n",
        "    |u_1\\rangle = \\begin{bmatrix}\n",
        "           1 \\\\\n",
        "           1 \\\\\n",
        "           1 \\\\\n",
        "           1\n",
        "         \\end{bmatrix}, \n",
        "      |u_2\\rangle = \\begin{bmatrix}\n",
        "           1 \\\\\n",
        "           2 \\\\\n",
        "           4 \\\\\n",
        "           5\n",
        "         \\end{bmatrix},  \n",
        "      |u_3\\rangle = \\begin{bmatrix}\n",
        "           1 \\\\\n",
        "           -3 \\\\\n",
        "           -4 \\\\\n",
        "           -2\n",
        "         \\end{bmatrix}\n",
        "  \\end{align}\n"
      ],
      "metadata": {
        "id": "tVsneEe0yStD"
      }
    },
    {
      "cell_type": "markdown",
      "source": [
        "Paso 1: Normalizar el primer vector $\\mathbf{u_1}$:\n",
        "\\begin{align*}\n",
        "    \\mathbf{v_1} &= \\frac{\\mathbf{u_1}}{\\|\\mathbf{u_1}\\|}\n",
        "\\end{align*}\n",
        "\n",
        "Step 2: Orthogonalize the second vector $\\mathbf{u_2}$ with respect to $\\mathbf{v_1}$:\n",
        "\\begin{align*}\n",
        "    \\mathbf{v_2} &= \\mathbf{u_2} - \\mathrm{proj}_{\\mathbf{v_1}}(\\mathbf{u_2}) \\\\\n",
        "    &= \\mathbf{u_2} - \\left(\\frac{\\mathbf{u_2} \\cdot \\mathbf{v_1}}{\\mathbf{v_1} \\cdot \\mathbf{v_1}}\\right)\\mathbf{v_1}\n",
        "\\end{align*}\n",
        "Normalize $\\mathbf{v_2}$:\n",
        "\\begin{align*}\n",
        "    \\mathbf{v_2} &= \\frac{\\mathbf{v_2}}{\\|\\mathbf{v_2}\\|}\n",
        "\\end{align*}\n",
        "\n",
        "Step 3: Orthogonalize the third vector $\\mathbf{u_3}$ with respect to $\\mathbf{v_1}$ and $\\mathbf{v_2}$:\n",
        "\\begin{align*}\n",
        "    \\mathbf{v_3} &= \\mathbf{u_3} - \\mathrm{proj}_{\\mathbf{v_1}}(\\mathbf{u_3}) - \\mathrm{proj}_{\\mathbf{v_2}}(\\mathbf{u_3}) \\\\\n",
        "    &= \\mathbf{u_3} - \\left(\\frac{\\mathbf{u_3} \\cdot \\mathbf{v_1}}{\\mathbf{v_1} \\cdot \\mathbf{v_1}}\\right)\\mathbf{v_1} - \\left(\\frac{\\mathbf{u_3} \\cdot \\mathbf{v_2}}{\\mathbf{v_2} \\cdot \\mathbf{v_2}}\\right)\\mathbf{v_2}\n",
        "\\end{align*}\n",
        "Normalize $\\mathbf{v_3}$:\n",
        "\\begin{align*}\n",
        "    \\mathbf{v_3} &= \\frac{\\mathbf{v_3}}{\\|\\mathbf{v_3}\\|}\n",
        "\\end{align*}\n",
        "\n",
        "The resulting orthonormal basis vectors are:\n",
        "\\begin{align*}\n",
        "    \\mathbf{v_1} &= \\begin{bmatrix}\n",
        "           v_{1,1} \\\\\n",
        "           v_{1,2} \\\\\n",
        "           v_{1,3} \\\\\n",
        "           v_{1,4}\n",
        "         \\end{bmatrix}, \\quad\n",
        "    \\mathbf{v_2} &= \\begin{bmatrix}\n",
        "           v_{2,1} \\\\\n",
        "           v_{2,2} \\\\\n",
        "           v_{2,3} \\\\\n",
        "           v_{2,4}\n",
        "         \\end{bmatrix}, \\quad\n",
        "    \\mathbf{v_3} &= \\begin{bmatrix}\n",
        "           v_{3,1} \\\\\n",
        "           v_{3,2} \\\\\n",
        "           v_{3,3} \\\\\n",
        "           v_{3,4}\n",
        "         \\end{bmatrix}\n",
        "\\end{align*}\n"
      ],
      "metadata": {
        "id": "S-rVlnAvyjTM"
      }
    },
    {
      "cell_type": "code",
      "source": [
        "import numpy as np\n",
        "\n",
        "# Given vectors\n",
        "u1 = np.array([1, 1, 1, 1])\n",
        "u2 = np.array([1, 2, 4, 5])\n",
        "u3 = np.array([1, -3, -4, -2])\n",
        "\n",
        "# Gram-Schmidt process\n",
        "v1 = u1 / np.linalg.norm(u1)\n",
        "v2 = u2 - np.dot(u2, v1) * v1\n",
        "v2 = v2 / np.linalg.norm(v2)\n",
        "v3 = u3 - np.dot(u3, v1) * v1 - np.dot(u3, v2) * v2\n",
        "v3 = v3 / np.linalg.norm(v3)\n",
        "\n",
        "# Orthonormal basis vectors\n",
        "orthonormal_basis = [v1, v2, v3]\n",
        "\n",
        "# Print the orthonormal basis vectors\n",
        "for i, v in enumerate(orthonormal_basis):\n",
        "    print(\"v{} =\".format(i + 1), v)"
      ],
      "metadata": {
        "id": "yHT96YRAw_jB"
      },
      "execution_count": null,
      "outputs": []
    },
    {
      "cell_type": "markdown",
      "source": [
        "#### 3.  **Ejercicio 2.6**"
      ],
      "metadata": {
        "id": "IyV2NM5A0Cmj"
      }
    },
    {
      "cell_type": "markdown",
      "source": [
        "Los estados de polarización del fotón se describen con superposición de estados vertical $|v\\rangle$ y horizontal $|h\\rangle$. Suponga que:\n",
        "\n",
        "\\begin{align}\n",
        "  |\\psi_1\\rangle &=\\frac{1}{2}|h\\rangle+\\frac{\\sqrt{3}}{2}|v\\rangle\\\\\n",
        "  |\\psi_2\\rangle &=\\frac{1}{2}|h\\rangle-\\frac{\\sqrt{3}}{2}|v\\rangle\\\\\n",
        "  |\\psi_3\\rangle &=|h\\rangle\n",
        "\\end{align}\n",
        "\n",
        "encuentre:\n",
        "\n",
        "*  $|\\langle \\psi_1|\\psi_2\\rangle|^2$\n",
        "*  $|\\langle \\psi_1|\\psi_3\\rangle|^2$\n",
        "*  $|\\langle \\psi_2|\\psi_3\\rangle|^2$"
      ],
      "metadata": {
        "id": "KC0BM3ox0iRu"
      }
    },
    {
      "cell_type": "markdown",
      "source": [
        "Para encontrar los valores solicitados, primero calculemos los productos internos necesarios y luego tomemos el módulo al cuadrado de cada uno. Usaremos la notación $|\\psi_i\\rangle = a_i |h\\rangle + b_i |v\\rangle$ para simplificar la notación.\n",
        "\n",
        "Dado que los estados $|h\\rangle$ y $|v\\rangle$ forman una base ortonormal, podemos calcular los productos internos de la siguiente manera:\n",
        "\n",
        "\\begin{align*}\n",
        "\\langle \\psi_1|\\psi_2\\rangle &= (a_1^* \\langle h| + b_1^* \\langle v |) \\cdot (a_2 |h\\rangle + b_2 |v\\rangle)\\\\\n",
        "&= a_1^* a_2 \\langle h|h\\rangle + a_1^* b_2 \\langle h|v\\rangle + b_1^* a_2 \\langle v|h\\rangle + b_1^* b_2 \\langle v|v\\rangle\\\\\n",
        "&= a_1^* a_2 + b_1^* b_2\n",
        "\\end{align*}\n",
        "\n",
        "De manera similar, podemos calcular los otros productos internos:\n",
        "\n",
        "$$\\begin{align*}\n",
        "\\langle \\psi_1|\\psi_3\\rangle &= a_1^* \\langle h|h\\rangle + b_1^* \\langle v|h\\rangle = a_1^*\\\\\n",
        "\\langle \\psi_2|\\psi_3\\rangle &= a_2^* \\langle h|h\\rangle + b_2^* \\langle v|h\\rangle = a_2^*\n",
        "\\end{align*}$$\n",
        "\n",
        "Finalmente, tomamos el módulo al cuadrado de cada producto interno para obtener las respuestas:\n",
        "\n",
        "$$\\begin{align}\n",
        "|\\langle \\psi_1|\\psi_2\\rangle|^2 &= |a_1^* a_2 + b_1^* b_2|^2\\\\\n",
        "|\\langle \\psi_1|\\psi_3\\rangle|^2 &= |a_1^*|^2\\\\\n",
        "|\\langle \\psi_2|\\psi_3\\rangle|^2 &= |a_2^*|^2\n",
        "\\end{align}$$\n",
        "\n",
        "Sustituyendo los valores dados:\n",
        "\n",
        "$$\\begin{align}\n",
        "| \\langle \\psi_1 | \\psi_2 \\rangle |^2 &= \\Bigg| \\left(\\frac{1}{2}\\right)\\cdot\\left(\\frac{1}{2}\\right) + \\left(\\frac{\\sqrt{3}}{2}\\right)\\cdot \\left(-\\frac{\\sqrt{3}}{2}\\right)\\Bigg|^2\\\\\n",
        "&= \\Bigg|\\frac{1}{4} - \\frac{3}{4}\\Bigg|^2\\\\\n",
        "&= \\Bigg|-\\frac{1}{2}\\Bigg|^2\\\\\n",
        "| \\langle \\psi_1 | \\psi_2 \\rangle |^2 &= \\frac{1}{4}\n",
        "\\end{align}$$\n",
        "\n",
        "\n",
        "Por lo tanto:\n",
        "\n",
        "\\begin{align*}\n",
        "|\\langle \\psi_1|\\psi_2\\rangle|^2 &= \\frac{1}{4}\\\\\n",
        "|\\langle \\psi_1|\\psi_3\\rangle|^2 &= \\frac{1}{4}\\\\\n",
        "|\\langle \\psi_2|\\psi_3\\rangle|^2 &= \\frac{1}{4}\n",
        "\\end{align*}"
      ],
      "metadata": {
        "id": "eCfcO5700bA7"
      }
    },
    {
      "cell_type": "code",
      "source": [
        "import numpy as np\n",
        "\n",
        "# Definir los estados dados\n",
        "ψ1 = np.array([1/2, np.sqrt(3)/2])  # Coeficientes de |h⟩ y |v⟩ en ψ1\n",
        "ψ2 = np.array([1/2, -np.sqrt(3)/2])  # Coeficientes de |h⟩ y |v⟩ en ψ2\n",
        "ψ3 = np.array([1, 0])  # Coeficientes de |h⟩ y |v⟩ en ψ3\n",
        "\n",
        "# Calcular los productos internos\n",
        "producto_interno_12 = np.dot(np.conj(ψ1), ψ2)\n",
        "producto_interno_13 = np.dot(np.conj(ψ1), ψ3)\n",
        "producto_interno_23 = np.dot(np.conj(ψ2), ψ3)\n",
        "\n",
        "# Calcular los módulos cuadrados\n",
        "modulo_cuadrado_12 = np.abs(producto_interno_12)**2\n",
        "modulo_cuadrado_13 = np.abs(producto_interno_13)**2\n",
        "modulo_cuadrado_23 = np.abs(producto_interno_23)**2\n",
        "\n",
        "# Mostrar los resultados\n",
        "print(\"|<ψ1|ψ2>|^2 =\", modulo_cuadrado_12)\n",
        "print(\"|<ψ1|ψ3>|^2 =\", modulo_cuadrado_13)\n",
        "print(\"|<ψ2|ψ3>|^2 =\", modulo_cuadrado_23)\n"
      ],
      "metadata": {
        "id": "M8Oja4dt3HQL"
      },
      "execution_count": null,
      "outputs": []
    },
    {
      "cell_type": "code",
      "source": [
        "import numpy as np\n",
        "import matplotlib.pyplot as plt\n",
        "\n",
        "# Crear figura y ejes\n",
        "fig, ax = plt.subplots()\n",
        "\n",
        "# Graficar los estados\n",
        "ax.arrow(0, 0, ψ1[0], ψ1[1], head_width=0.1, head_length=0.1, fc='b', ec='b', label=r'$|\\psi_1\\rangle =\\frac{1}{2}|h\\rangle+\\frac{\\sqrt{3}}{2}|v\\rangle$')\n",
        "ax.arrow(0, 0, ψ2[0], ψ2[1], head_width=0.1, head_length=0.1, fc='g', ec='g', label=r'$|\\psi_2\\rangle =\\frac{1}{2}|h\\rangle-\\frac{\\sqrt{3}}{2}|v\\rangle$')\n",
        "ax.arrow(0, 0, ψ3[0], ψ3[1], head_width=0.1, head_length=0.1, fc='r', ec='r', label=r'$|\\psi_3\\rangle =|h\\rangle$')\n",
        "\n",
        "# Configurar la relación de aspecto\n",
        "ax.set_aspect('equal')\n",
        "\n",
        "# Ajustar los límites de los ejes\n",
        "ax.set_xlim([-1.2, 1.2])\n",
        "ax.set_ylim([-1.2, 1.2])\n",
        "\n",
        "# Añadir leyendas\n",
        "ax.legend()\n",
        "\n",
        "# Configurar títulos y labels\n",
        "ax.set_xlabel(r'Horizontal $|h\\rangle$')\n",
        "ax.set_ylabel(r'Vertical $|v\\rangle$')\n",
        "ax.set_title('Estados de polarización')\n",
        "\n",
        "# Mostrar la imagen\n",
        "plt.show()\n"
      ],
      "metadata": {
        "colab": {
          "base_uri": "https://localhost:8080/",
          "height": 476
        },
        "id": "lCrQaF7A3H3q",
        "outputId": "27e651ca-73ad-4d01-f354-ea1f983a41a9"
      },
      "execution_count": null,
      "outputs": [
        {
          "output_type": "display_data",
          "data": {
            "text/plain": [
              "<Figure size 640x480 with 1 Axes>"
            ],
            "image/png": "[encoded data removed]"
          },
          "metadata": {}
        }
      ]
    }
  ]
}